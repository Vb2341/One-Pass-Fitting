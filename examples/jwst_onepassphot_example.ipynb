{
 "cells": [
  {
   "cell_type": "markdown",
   "id": "b67be20f-e39a-4c2d-8436-c2128eb8e6c9",
   "metadata": {},
   "source": [
    "# OnePassStep Example Notebook\n",
    "***\n",
    "\n",
    "Author: Varun Bajaj<br>\n",
    "email: vbajaj@stsci.edu<br>\n",
    "November 2023"
   ]
  },
  {
   "cell_type": "markdown",
   "id": "6d1c6c30-1981-406e-9051-66c6577b418c",
   "metadata": {},
   "source": [
    "This notebook presents a simple example workflow for performing One Pass Style PSF fitting for JWST data, and making a master catalog.  In essence, the process can be broken down into three steps:\n",
    " - First, run PSF photometry on each image individually\n",
    " - Then, align the images using the resulting catalogs as inputs to the `TweakRegStep`\n",
    " - Lastly, use the newly aligned images/catalogs to match stars across the all of the catalogs, and combine the results (calculate means and stds) into a master catalog\n",
    "\n",
    "This master catalog can then be used as an astrometric reference to align other data, or serve as a high precision photometric catalog.\n",
    "In general, fluxes an positions for brighter stars in the master catalog are measured to standard deviations (__not__ errors, which are a factor of `sqrt(n)` lower) of approximately 0.01 mag, or 0.015 pixels, \n",
    "\n",
    "While this case shows NIRCam shortwave data, doing the same for longwave and MIRI Image data is straightforward, and only requires a few small changes."
   ]
  },
  {
   "cell_type": "markdown",
   "id": "de779e3c-08a3-4795-b60b-667be73d8e0b",
   "metadata": {},
   "source": [
    "<div class=\"alert alert-block alert-warning\">\n",
    "<b>NOTE:</b> To keep the scope of this notebook small, we do not intend this as a extensive guide to image alignment, but just as a basic intro to the package.  If desired, more detailed tweakreg workflows can be detailed as well.\n",
    "</div>"
   ]
  },
  {
   "cell_type": "code",
   "execution_count": null,
   "id": "05c37e3a-b35b-4f41-8f7a-a01a080ffcee",
   "metadata": {},
   "outputs": [],
   "source": [
    "import glob\n",
    "import matplotlib.pyplot as plt\n",
    "import os\n",
    "import shutil\n",
    "\n",
    "from astroquery.mast import Observations\n",
    "from astropy.io import fits\n",
    "from astropy.table import Table, vstack\n",
    "from jwst.datamodels import ImageModel, ModelContainer\n",
    "from jwst.pipeline import  calwebb_image3\n",
    "from matplotlib.colors import LogNorm\n",
    "\n",
    "import one_pass_fitting\n",
    "from one_pass_fitting import make_jwst_tweakreg_catfile, merge_catalogs, create_image_handlers\n",
    "from one_pass_fitting.data_handlers import  NIRCamHandler"
   ]
  },
  {
   "cell_type": "code",
   "execution_count": null,
   "id": "ed2e03c4-8c88-4e10-8986-c8b3dfce9239",
   "metadata": {},
   "outputs": [],
   "source": [
    "os.environ['WEBBPSF_PATH'] = '/Users/vbajaj/Downloads/webbpsf-data'\n",
    "import webbpsf"
   ]
  },
  {
   "cell_type": "markdown",
   "id": "f1a7ef3c-630d-47c1-a63b-51251d44cc59",
   "metadata": {},
   "source": [
    "## Basic setup"
   ]
  },
  {
   "cell_type": "code",
   "execution_count": null,
   "id": "25c82710-de91-4ced-90d5-e8d51b754c96",
   "metadata": {},
   "outputs": [],
   "source": [
    "# Change as desired\n",
    "home_dir = os.path.expanduser('~')\n",
    "data_dir = f'{home_dir}/Documents/OnePassPhot_example_data/JWST'\n",
    "if not os.path.exists(data_dir):\n",
    "    os.makedirs(data_dir)\n",
    "\n",
    "os.chdir(data_dir)"
   ]
  },
  {
   "cell_type": "code",
   "execution_count": null,
   "id": "0a758b34-35b8-4f0a-982a-e046b42bc6d9",
   "metadata": {},
   "outputs": [],
   "source": [
    "obs = Observations.query_criteria(obs_id='jw01476-o001_t001_nircam_clear-f150w')\n",
    "plist = Observations.get_product_list(obs)\n",
    "fplist = Observations.filter_products(plist, productSubGroupDescription='CAL')\n",
    "\n",
    "# To make the example faster, lets just use the NRC A1 data\n",
    "# You can replace this data as desired\n",
    "fplist = vstack([row for row in fplist if row['obs_id'].endswith('nrca1')])\n",
    "dl_table = Observations.download_products(fplist)"
   ]
  },
  {
   "cell_type": "code",
   "execution_count": null,
   "id": "019942f3-00f7-4eba-a502-bf3b7f9a86b4",
   "metadata": {},
   "outputs": [],
   "source": [
    "for im in sorted(glob.glob('./mastDownload/JWST/*/*cal.fits')):\n",
    "    shutil.move(im, '.')"
   ]
  },
  {
   "cell_type": "code",
   "execution_count": null,
   "id": "fbae5b97-403f-409e-abee-175334def61d",
   "metadata": {},
   "outputs": [],
   "source": [
    "cal_ims = sorted(glob.glob('*cal.fits'))"
   ]
  },
  {
   "cell_type": "code",
   "execution_count": null,
   "id": "8458571e-8e2a-4b50-a308-9f30b4711d5b",
   "metadata": {},
   "outputs": [],
   "source": [
    "cal_ims"
   ]
  },
  {
   "cell_type": "markdown",
   "id": "d57e2db8-2bd3-4672-bf11-d92286a64fab",
   "metadata": {},
   "source": [
    "Let's create the PSF Model using Webb PSF.  Note that the `npsf` argument is set to 9 for speed here, but it's probably better to set it higher (must be a square, so 25 is recommended for real use)."
   ]
  },
  {
   "cell_type": "code",
   "execution_count": null,
   "id": "31e2714a-8f3e-4d2e-a4ac-c3af586bc51d",
   "metadata": {},
   "outputs": [],
   "source": [
    "nrc = webbpsf.NIRCam()"
   ]
  },
  {
   "cell_type": "code",
   "execution_count": null,
   "id": "92dbb7d9-5165-4597-b5fa-c1a9e628febb",
   "metadata": {},
   "outputs": [],
   "source": [
    "def make_nircam_psf(detector: str, filt: str, pupil: str, npsf: int = 9):\n",
    "    \"\"\"Get GriddedPSFModel for a given combination of nircam detector/optical element\"\"\"\n",
    "    if detector.lower() in ['along', 'blong']:\n",
    "        detector = detector.lower().replace('long', '5')\n",
    "    nrc.detector = 'nrc'+detector.upper()\n",
    "    \n",
    "    if pupil.upper() == 'CLEAR':\n",
    "        nrc.filter = filt.lower()\n",
    "    else:\n",
    "        nrc.filter = pupil.lower()\n",
    "    # 9 is likely too low, probably make it 25\n",
    "    grid = nrc.psf_grid(num_psfs=npsf, all_detectors=False)\n",
    "    return grid\n",
    "    "
   ]
  },
  {
   "cell_type": "markdown",
   "id": "24d50449-fa60-4186-8a8e-afd7a4ade8be",
   "metadata": {},
   "source": [
    "\n",
    "<div class=\"alert alert-block alert-warning\">\n",
    "For other data, change this as needed.  If doing all 8 nircam detectors for a filter, make sure you're using the right model for each detector!\n",
    "</div>"
   ]
  },
  {
   "cell_type": "code",
   "execution_count": null,
   "id": "b839869a-92f0-43f8-800f-92476356ef29",
   "metadata": {},
   "outputs": [],
   "source": [
    "filt = 'F150W'\n",
    "det = 'A1'\n",
    "pupil = 'CLEAR'\n",
    "psf_model = make_nircam_psf(det, filt, pupil, npsf=9)"
   ]
  },
  {
   "cell_type": "markdown",
   "id": "72f445d5-1447-452e-9796-26f3166962f2",
   "metadata": {},
   "source": [
    "Now with the PSF model, we can initialized the `OnePassPhot` Object, but first let's take a look at the documentation:"
   ]
  },
  {
   "cell_type": "code",
   "execution_count": null,
   "id": "78664428-d3d9-421a-86e5-62ea9854fc1a",
   "metadata": {},
   "outputs": [],
   "source": [
    "one_pass_fitting.OnePassPhot?"
   ]
  },
  {
   "cell_type": "markdown",
   "id": "17fb1be6-7f2a-401c-ace1-781f2b073f02",
   "metadata": {},
   "source": [
    "To get into more detail, the majority of the parameters here are related to source detection.  Specifically:\n",
    "  - `hmin` is minimum separation a local maximum in the data has to be from any other local max.  This is like a minimum isolation value of source\n",
    "  - `fmin` is the minimum flux of the sume of brightest 4 pixels of the local max, it is a rough cut to make sure the local max is bright enough\n",
    "  - `pmax` is the maximum value of the brightest pixel of the local max.  This often can help make sure you're not fitting saturated sources\n",
    "  - `sky_in` and `sky_out` are used for calculating a local background around the local max, as the PSF fitting requires the sky to be pre-subtracted"
   ]
  },
  {
   "cell_type": "code",
   "execution_count": null,
   "id": "20a42967-205a-45b2-92bc-e45380f8ce71",
   "metadata": {},
   "outputs": [],
   "source": [
    "# These are rough parameters, feel free to change as needed for your data\n",
    "ophot = one_pass_fitting.OnePassPhot(psf_model, hmin=5, fmin=200., pmax=70000.)"
   ]
  },
  {
   "cell_type": "markdown",
   "id": "d7f635b0-47b5-44e7-a09e-6e6a3509b2c0",
   "metadata": {},
   "source": [
    "To actually run the PSF fit photometry, you can use the `__call__()` method on `OnePassPhot`, for documentation:"
   ]
  },
  {
   "cell_type": "code",
   "execution_count": null,
   "id": "93e99131-f6fa-4048-9429-39a1348f5036",
   "metadata": {},
   "outputs": [],
   "source": [
    "ophot.__call__?"
   ]
  },
  {
   "cell_type": "code",
   "execution_count": null,
   "id": "d1356b1f-6d18-4df4-8e26-53cd999a2a73",
   "metadata": {
    "scrolled": true
   },
   "outputs": [],
   "source": [
    "tbls = []\n",
    "for im in cal_ims:\n",
    "    mod = ImageModel(im)\n",
    "    print(f'PSF fitting {im}')\n",
    "    # To use the __call__() method, simply put parenthesis after of object, with whatever arguments inside\n",
    "    output = ophot(mod.data, mod.meta.wcs, im.replace('.fits', '_sci1_xyrd.ecsv'))\n",
    "    tbls.append(output)"
   ]
  },
  {
   "cell_type": "markdown",
   "id": "3e2bd42c-398d-420c-ad26-a00e6a83ca30",
   "metadata": {},
   "source": [
    "Now that we have these PSF photometry catalogs written out to disk, we can then use these catalogs to do high precision alignments of the data!"
   ]
  },
  {
   "cell_type": "code",
   "execution_count": null,
   "id": "52dc31e5-582c-4ecb-ac6a-9906989802cb",
   "metadata": {},
   "outputs": [],
   "source": [
    "tbls = [Table.read(t) for t in sorted(glob.glob('*xyrd.ecsv'))]"
   ]
  },
  {
   "cell_type": "markdown",
   "id": "5a5ada5f-8f46-401a-adfd-e94fa39dda82",
   "metadata": {},
   "source": [
    "Let's take a look at one the output catalogs:"
   ]
  },
  {
   "cell_type": "code",
   "execution_count": null,
   "id": "c599ccb9-6ffb-4c46-bf53-9126e4cdaf85",
   "metadata": {},
   "outputs": [],
   "source": [
    "tbls[0]"
   ]
  },
  {
   "cell_type": "markdown",
   "id": "ae10bdf0-b03c-429c-ba38-43e872acd5d7",
   "metadata": {},
   "source": [
    "The column meanings are:\n",
    " - `x, y`: x, y position in the output frame (pixels)\n",
    " - `m`: \"instrumental\" magnitude (-2.5log(flux)). This is not meaningful for JWST due to the units being MJy/sr, but is for HST.\n",
    " - `q`: quality of fit defined as sum(abs(data-model))/flux\n",
    " - `s`: local sky value\n",
    " - `cx`: central excess value, which the excess of the flux in the central pixel divided by the fit flux, if negative, the model has more flux in the central pixel than the data\n",
    " - `f`: Fit flux, in instrumental units\n",
    " - `RA, Dec`: Right ascension, declination of the `(x,y)` coordinate"
   ]
  },
  {
   "cell_type": "markdown",
   "id": "57db5d58-76dc-4558-a8bf-014c50ad23a2",
   "metadata": {},
   "source": [
    "## Aligning images using the PSF fit catalogs"
   ]
  },
  {
   "cell_type": "markdown",
   "id": "1a104bb6-a52c-404a-b35d-bf9c6916d795",
   "metadata": {},
   "source": [
    "To use the catalogs with the TweakReg step, we must first create a catfile, which lists the image and it's corresponding catalog.  The catalog must be written to disk for this to work.  Let's look at the function docs:"
   ]
  },
  {
   "cell_type": "code",
   "execution_count": null,
   "id": "29f53cfd-200c-4e86-8363-d650ee290fdf",
   "metadata": {},
   "outputs": [],
   "source": [
    "make_jwst_tweakreg_catfile?"
   ]
  },
  {
   "cell_type": "code",
   "execution_count": null,
   "id": "8163bbf1-77b3-43d1-9f5e-0e0777422b4e",
   "metadata": {},
   "outputs": [],
   "source": [
    "# This variable will store the name of the catfile which will be passed to the TweakRegStep\n",
    "catfile = make_jwst_tweakreg_catfile(cal_ims, tbls)"
   ]
  },
  {
   "cell_type": "code",
   "execution_count": null,
   "id": "0a70e030-8c94-40ae-9773-ec1210cf06b7",
   "metadata": {},
   "outputs": [],
   "source": [
    "!cat tweakreg_catfile.txt"
   ]
  },
  {
   "cell_type": "markdown",
   "id": "d8f5fe4d-3918-4131-acd2-a6fa63fb4171",
   "metadata": {},
   "source": [
    "Let's actually align the data using the TweakRegStep.  We need to tell the step to use our custom catalogs rather than to do its own detection.  We can really crank down on the tolerance and sigma clipping parameters due to having good PSF fit postions.\n",
    "\n",
    "Specifically, take a look at the fit MAE (median absolute error) values here- those are in arcsec, and often times are below 1mas!"
   ]
  },
  {
   "cell_type": "code",
   "execution_count": null,
   "id": "54872451-2515-44a0-8ed1-0d09513fb401",
   "metadata": {
    "scrolled": true
   },
   "outputs": [],
   "source": [
    "im3_pipe = calwebb_image3.Image3Pipeline()\n",
    "\n",
    "im3_pipe.tweakreg.use_custom_catalogs = True\n",
    "im3_pipe.tweakreg.catfile = catfile\n",
    "im3_pipe.tweakreg.fitgeometry = 'general'\n",
    "im3_pipe.tweakreg.sigma = .3\n",
    "im3_pipe.tweakreg.tolerance = .08 # Can really crank down on the tolerance because our positions are so precise \n",
    "\n",
    "# If the next lines are commented out, no absolute alignment will be performed.\n",
    "# im3_pipe.tweakreg.abs_refcat = 'GAIADR3'  # Can optionally do post alignment (after aligning to each other) to Gaia.\n",
    "# im3_pipe.tweakreg.abs_fitgeometry = 'general'\n",
    "# im3_pipe.tweakreg.abs_tolerance = 0.08\n",
    "# im3_pipe.tweakreg.abs_sigma = .5\n",
    "# im3_pipe.tweakreg.abs_nclip = 4\n",
    "aligned_mc = im3_pipe.tweakreg.run(cal_ims)"
   ]
  },
  {
   "cell_type": "markdown",
   "id": "41446b48-97b2-4c7a-86cf-a1393282b346",
   "metadata": {},
   "source": [
    "## Making a Final Catalog"
   ]
  },
  {
   "cell_type": "markdown",
   "id": "b57b949c-9abf-45e8-891b-aeaea1d06e90",
   "metadata": {},
   "source": [
    "Now that we have the images aligned using our catalogs, we can now combine the catalogs into one master catalog.  To do that, we first need to create some convenience objects, which we will refer to as image handlers (in this case `NIRCamHandler` objects)"
   ]
  },
  {
   "cell_type": "code",
   "execution_count": null,
   "id": "8acd92dc-10c9-432d-9940-a970e37e08ae",
   "metadata": {},
   "outputs": [],
   "source": [
    "im_handlers = create_image_handlers([*aligned_mc], tbls)"
   ]
  },
  {
   "cell_type": "markdown",
   "id": "fd27695f-a526-4483-8c01-5ee1f73b85f7",
   "metadata": {},
   "source": [
    "Now that we have the image handler objects created, we can do some catalog corrections:"
   ]
  },
  {
   "cell_type": "code",
   "execution_count": null,
   "id": "a984a678-16a1-40f1-9421-b3243af4fa96",
   "metadata": {},
   "outputs": [],
   "source": [
    "im_handlers[0].correct_catalog?"
   ]
  },
  {
   "cell_type": "markdown",
   "id": "d021c8ba-2d62-45ed-a3ef-bfadd99b30ef",
   "metadata": {},
   "source": [
    "If you used WebbPSF Models, you can set all the flags to `False`.  You still need to run the method however, as it converts the fluxes to more relevant units."
   ]
  },
  {
   "cell_type": "code",
   "execution_count": null,
   "id": "4cc290c6-b554-4900-83e9-1a4ca82425c5",
   "metadata": {},
   "outputs": [],
   "source": [
    "for ih in im_handlers:\n",
    "    ih.correct_catalog(aperture=False, pixel_area=False, encircled=False)"
   ]
  },
  {
   "cell_type": "markdown",
   "id": "f72df2a8-e8e5-4128-a9b4-75f737f07920",
   "metadata": {},
   "source": [
    "Now that the catalogs are corrected, you can pass these objects into one last method to combine all their catalogs!"
   ]
  },
  {
   "cell_type": "code",
   "execution_count": null,
   "id": "e17934e2-57fc-47ed-99f7-ad2c93a9c9a0",
   "metadata": {},
   "outputs": [],
   "source": [
    "merge_catalogs?"
   ]
  },
  {
   "cell_type": "code",
   "execution_count": null,
   "id": "aae9c70e-0460-4528-ab83-6d84603ee308",
   "metadata": {},
   "outputs": [],
   "source": [
    "res = merge_catalogs(im_handlers, match_size=0.65)"
   ]
  },
  {
   "cell_type": "markdown",
   "id": "eb8b95d4-b075-40f9-9123-2046d3ebd203",
   "metadata": {},
   "source": [
    "Let's take a look at the output merged catalog.  For most of the columns there exists both a `mean` and `std` column.  They represent the average and standard deviation of the matched measurements for each star."
   ]
  },
  {
   "cell_type": "code",
   "execution_count": null,
   "id": "29e7f81a-3dd7-485a-9612-e60fa524633a",
   "metadata": {},
   "outputs": [],
   "source": [
    "res.colnames"
   ]
  },
  {
   "cell_type": "markdown",
   "id": "d10a3448-c04d-4c63-b59a-9008a1da400d",
   "metadata": {},
   "source": [
    "For the columns that appeared in the tables from running `OnePassPhot`, the columns in the merged catalog are the means/stds of the matched values for each star across all of the input catalogs.  For certain quantities, like `s` and `cx`, the mean and standard deviations may vary, as the PSF and background may often vary across images.\n",
    "\n",
    "In addition, it adds extra columns `ST_mean` and `AB_mean` (and their std values) which are the magnitudes of the stars in the STMag and ABMag systems, respectively (Vega is coming soon).\n",
    "\n",
    "Lastly, the `n` and `n_expected` columns count how many times a given source was found across all of the catalogs, while `n_expected` shows the number of images that covered that source's `(RA,Dec)`, which helps give context to `n`."
   ]
  },
  {
   "cell_type": "markdown",
   "id": "c7880880-e3aa-4288-9af1-030ebc6d9ea8",
   "metadata": {},
   "source": [
    "***"
   ]
  },
  {
   "cell_type": "markdown",
   "id": "b70f3954-1c84-4e47-946b-de8c913b4b66",
   "metadata": {},
   "source": [
    "### Cutting the catalog, Exploring results"
   ]
  },
  {
   "cell_type": "markdown",
   "id": "b766bf45-2595-4b32-9f80-bb6b0c0a7a26",
   "metadata": {},
   "source": [
    "Even if a star is only found once across all of the catalogs, it is still present in the final catalog.  You may want to remove these, as they have meaningless standard deviations.  You may want to cut out sources detected fewr than a certain number of times, which can be done with standard astropy table logic:"
   ]
  },
  {
   "cell_type": "code",
   "execution_count": null,
   "id": "f3998332-fd7f-4ab6-b067-213a14213c28",
   "metadata": {},
   "outputs": [],
   "source": [
    "res_cut = res[res['n']>=2]\n",
    "# Another option, makes a cut to make sure a star is detected at least twice, and in at least half the images that covered it\n",
    "# res_cut = res[(res['n']/res['n_expected']>=0.5)&(res['n']>=2)]"
   ]
  },
  {
   "cell_type": "markdown",
   "id": "01ea0d07-ff82-4952-b2c7-e0db16e34dd0",
   "metadata": {},
   "source": [
    "Doing some quick analysis, we can see the fit sources are measured fairly well over a range of ~3 magnitudes, before the SNR of the source gets too low to well constrain the flux."
   ]
  },
  {
   "cell_type": "code",
   "execution_count": null,
   "id": "8d6b4c4e-a1c9-4586-91d1-612767e7a79b",
   "metadata": {},
   "outputs": [],
   "source": [
    "plt.scatter(res_cut['AB_mean'], res_cut['AB_std'], s=5, alpha=.5)\n",
    "plt.ylim(0, .1)\n",
    "plt.xlabel('ABMag [mag]')\n",
    "plt.ylabel('ABMag std [mag]')\n",
    "plt.grid(ls=':', alpha=.4)"
   ]
  },
  {
   "cell_type": "markdown",
   "id": "c30bdb4c-2c1c-437b-a0db-2c4d63c61ff4",
   "metadata": {},
   "source": [
    "Similarly the positions are measured down to ~0.01-0.015 pixels for the brighter stars, which is much more precise than typical star finding algorithms"
   ]
  },
  {
   "cell_type": "code",
   "execution_count": null,
   "id": "68ebf2b6-859f-43aa-9380-89536dffd171",
   "metadata": {},
   "outputs": [],
   "source": [
    "fig, axs = plt.subplots(2, 1)\n",
    "\n",
    "axs[0].scatter(res_cut['AB_mean'], res_cut['x_std'], s=5, alpha=.35)\n",
    "axs[0].set_ylim(0, .05)\n",
    "axs[0].set_xlabel('ABMag [mag]')\n",
    "axs[0].set_ylabel('x_std [pixels]')\n",
    "axs[0].grid(ls=':', alpha=.4)\n",
    "\n",
    "axs[1].scatter(res_cut['AB_mean'], res_cut['y_std'], s=5, alpha=.35)\n",
    "axs[1].set_ylim(0, .05)\n",
    "axs[1].set_xlabel('ABMag [mag]')\n",
    "axs[1].set_ylabel('y_std [pixels]')\n",
    "axs[1].grid(ls=':', alpha=.4)\n",
    "\n",
    "plt.tight_layout()"
   ]
  },
  {
   "cell_type": "markdown",
   "id": "dee713d1-1897-4fe1-98ee-aa5cf39e5c9b",
   "metadata": {},
   "source": [
    "Let's also take a look at the map of the RA/Decs for the sources and how often the sources were detected"
   ]
  },
  {
   "cell_type": "code",
   "execution_count": null,
   "id": "6420cbb1-6a44-4112-bf91-eb1d2373ec54",
   "metadata": {},
   "outputs": [],
   "source": [
    "plt.scatter(res_cut['RA_mean'], res_cut['Dec_mean'], s=8, alpha=.5, c=res_cut['n'])\n",
    "plt.xlabel('RA')\n",
    "plt.xlim(plt.xlim()[::-1])\n",
    "plt.ylabel('Dec')\n",
    "cb = plt.colorbar()\n",
    "cb.set_label('number of detections')\n",
    "plt.grid(ls=':', alpha=.4)"
   ]
  },
  {
   "cell_type": "code",
   "execution_count": null,
   "id": "01539ea2-5ce8-49db-8fe5-490af0f31f39",
   "metadata": {},
   "outputs": [],
   "source": [
    "plt.scatter(res_cut['RA_mean'], res_cut['Dec_mean'], s=8, alpha=.5, c=res_cut['n_expected'])\n",
    "plt.xlabel('RA')\n",
    "plt.xlim(plt.xlim()[::-1])\n",
    "plt.ylabel('Dec')\n",
    "cb = plt.colorbar()\n",
    "cb.set_label('number of images covered')\n",
    "plt.grid(ls=':', alpha=.4)"
   ]
  },
  {
   "cell_type": "markdown",
   "id": "e61c7070-4f6e-4a8d-9593-1cead8159798",
   "metadata": {},
   "source": [
    "***\n",
    "### Saving as a master catalog"
   ]
  },
  {
   "cell_type": "markdown",
   "id": "740334ae-b8b8-46f9-99ff-da227e75ee9b",
   "metadata": {},
   "source": [
    "Lastly, we can save the merged catalog as a master catalog which can then be used to align other images!  We simply need to have an ecsv file containing RA/Dec columns.  We'll keep a few other columns in there, just so we can have some context for using it later. "
   ]
  },
  {
   "cell_type": "markdown",
   "id": "a9570abf-75b0-4ee7-9074-9f8e033016ad",
   "metadata": {},
   "source": [
    "<div class=\"alert alert-block alert-warning\">\n",
    "<b>NOTE:</b> For the TweakRegStep, the dec column of the reference catalog has to be `DEC`.\n",
    "</div>"
   ]
  },
  {
   "cell_type": "code",
   "execution_count": null,
   "id": "907b5aff-9fbf-4f2b-9165-7f22cac6d13a",
   "metadata": {},
   "outputs": [],
   "source": [
    "master_cat = Table(res_cut['RA_mean', 'Dec_mean', 'q_mean', 'AB_mean', 'RA_std', 'Dec_std', 'AB_std', 'n', 'n_expected'],\n",
    "                   names = ['RA', 'DEC', 'q_mean', 'AB_mean', 'RA_std', 'Dec_std', 'AB_std', 'n', 'n_expected']) "
   ]
  },
  {
   "cell_type": "markdown",
   "id": "b39068ad-1b15-4b57-95cd-49da4bdbdf37",
   "metadata": {},
   "source": [
    "To save it, we simply use the `write()` method of the Table."
   ]
  },
  {
   "cell_type": "code",
   "execution_count": null,
   "id": "908e5c31-f84e-494a-8647-64ec3494aa9e",
   "metadata": {},
   "outputs": [],
   "source": [
    "master_cat.write(f'{filt}_master_cat.ecsv', overwrite=True)"
   ]
  },
  {
   "cell_type": "markdown",
   "id": "148c6bc8-1752-4a61-a5a2-a4e2fc619d13",
   "metadata": {},
   "source": [
    "## Conclusion"
   ]
  },
  {
   "cell_type": "markdown",
   "id": "550e177b-ff79-466f-b105-243bcf7e57e8",
   "metadata": {},
   "source": [
    "We hope this has been a good introduction to PSF photometry use cases.  Contributions and feedback are more than welcome, especially for other features and support for other instruments.  This package is still under heavy development, and so you may run into some bugs.  Do not hesitate to reach out to vbajaj@stsci.edu or open issues/PRs on github!\n",
    "\n",
    "Also feel free to take a look at the documentation to see if there are other methods under the hood that might be useful for you!"
   ]
  },
  {
   "cell_type": "markdown",
   "id": "90f37470-5723-4874-a675-aacf0a158279",
   "metadata": {},
   "source": [
    "<img style=\"float: center;\" src=\"https://raw.githubusercontent.com/spacetelescope/notebooks/master/assets/stsci_pri_combo_mark_horizonal_white_bkgd.png\" alt=\"Space Telescope Logo\" width=\"200px\"/>"
   ]
  }
 ],
 "metadata": {
  "kernelspec": {
   "display_name": "Python 3 (ipykernel)",
   "language": "python",
   "name": "python3"
  },
  "language_info": {
   "codemirror_mode": {
    "name": "ipython",
    "version": 3
   },
   "file_extension": ".py",
   "mimetype": "text/x-python",
   "name": "python",
   "nbconvert_exporter": "python",
   "pygments_lexer": "ipython3",
   "version": "3.9.16"
  }
 },
 "nbformat": 4,
 "nbformat_minor": 5
}
